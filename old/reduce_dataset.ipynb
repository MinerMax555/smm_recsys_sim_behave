{
 "cells": [
  {
   "cell_type": "code",
   "execution_count": 1,
   "metadata": {},
   "outputs": [],
   "source": [
    "import pandas as pd\n",
    "import random"
   ]
  },
  {
   "cell_type": "code",
   "execution_count": 2,
   "metadata": {},
   "outputs": [],
   "source": [
    "start = 1\n",
    "end = 637231\n",
    "random.seed(42)\n",
    "# Calculate the size of the desired subset (20% of the range)\n",
    "subset_size = int(0.08 * (end - start + 1))\n",
    "\n",
    "# Generate a random subset of that size\n",
    "random_subset = random.sample(range(start, end + 1), subset_size)"
   ]
  },
  {
   "cell_type": "code",
   "execution_count": 3,
   "metadata": {},
   "outputs": [],
   "source": [
    "interactions = pd.read_csv(\"data/100k_dataset/100k_dataset.inter_original\", sep=\"\\t\")"
   ]
  },
  {
   "cell_type": "code",
   "execution_count": 4,
   "metadata": {},
   "outputs": [],
   "source": [
    "tracks_df = pd.read_csv('data/100k_dataset/tracks.txt.gz_original', sep='\\t', compression='gzip', header=None)\n",
    "users_df = pd.read_csv('data/100k_dataset/demo.txt.gz_original', sep='\\t', compression='gzip', header=None)\n"
   ]
  },
  {
   "cell_type": "code",
   "execution_count": 5,
   "metadata": {},
   "outputs": [],
   "source": [
    "new_item_list = tracks_df.loc[sorted(random_subset)]"
   ]
  },
  {
   "cell_type": "code",
   "execution_count": 6,
   "metadata": {},
   "outputs": [],
   "source": [
    "new_item_list = new_item_list[new_item_list[2].map(new_item_list[2].value_counts()) >= 300]\n",
    "valid_countries_set = set(new_item_list[2])"
   ]
  },
  {
   "cell_type": "code",
   "execution_count": 7,
   "metadata": {},
   "outputs": [],
   "source": [
    "index_translation = {old_index:new_index for new_index, old_index in enumerate(new_item_list.index)}"
   ]
  },
  {
   "cell_type": "code",
   "execution_count": 8,
   "metadata": {},
   "outputs": [
    {
     "name": "stderr",
     "output_type": "stream",
     "text": [
      "C:\\Users\\Martin\\AppData\\Local\\Temp\\ipykernel_17396\\109829266.py:2: SettingWithCopyWarning: \n",
      "A value is trying to be set on a copy of a slice from a DataFrame.\n",
      "Try using .loc[row_indexer,col_indexer] = value instead\n",
      "\n",
      "See the caveats in the documentation: https://pandas.pydata.org/pandas-docs/stable/user_guide/indexing.html#returning-a-view-versus-a-copy\n",
      "  filtered_interactions['item_id:token'] = filtered_interactions['item_id:token'].map(index_translation)\n"
     ]
    }
   ],
   "source": [
    "filtered_interactions = interactions[interactions['item_id:token'].isin(set(new_item_list.index))]\n",
    "filtered_interactions['item_id:token'] = filtered_interactions['item_id:token'].map(index_translation)"
   ]
  },
  {
   "cell_type": "code",
   "execution_count": 9,
   "metadata": {},
   "outputs": [],
   "source": [
    "interaction_counts = filtered_interactions[\"user_id:token\"].value_counts()\n",
    "user_ids_less_than_20_interactions = set(interaction_counts[interaction_counts < 20].index)"
   ]
  },
  {
   "cell_type": "code",
   "execution_count": 10,
   "metadata": {},
   "outputs": [],
   "source": [
    "users_in_underrepresented_countries = set(users_df[~users_df[0].isin(valid_countries_set)].index)"
   ]
  },
  {
   "cell_type": "code",
   "execution_count": 11,
   "metadata": {},
   "outputs": [],
   "source": [
    "users_to_keep = sorted(list(set(users_df.index).intersection(set(filtered_interactions[\"user_id:token\"].values)) - user_ids_less_than_20_interactions - users_in_underrepresented_countries))\n",
    "user_id_map = {old_id : new_id for new_id, old_id in enumerate(users_to_keep)}\n",
    "filtered_interactions = filtered_interactions[filtered_interactions[\"user_id:token\"].isin(users_to_keep)]\n",
    "filtered_interactions['user_id:token'] = filtered_interactions['user_id:token'].map(user_id_map)"
   ]
  },
  {
   "cell_type": "code",
   "execution_count": 12,
   "metadata": {},
   "outputs": [
    {
     "data": {
      "text/html": [
       "<div>\n",
       "<style scoped>\n",
       "    .dataframe tbody tr th:only-of-type {\n",
       "        vertical-align: middle;\n",
       "    }\n",
       "\n",
       "    .dataframe tbody tr th {\n",
       "        vertical-align: top;\n",
       "    }\n",
       "\n",
       "    .dataframe thead th {\n",
       "        text-align: right;\n",
       "    }\n",
       "</style>\n",
       "<table border=\"1\" class=\"dataframe\">\n",
       "  <thead>\n",
       "    <tr style=\"text-align: right;\">\n",
       "      <th></th>\n",
       "      <th>user_id:token</th>\n",
       "      <th>item_id:token</th>\n",
       "    </tr>\n",
       "  </thead>\n",
       "  <tbody>\n",
       "    <tr>\n",
       "      <th>10</th>\n",
       "      <td>0</td>\n",
       "      <td>0</td>\n",
       "    </tr>\n",
       "    <tr>\n",
       "      <th>38</th>\n",
       "      <td>0</td>\n",
       "      <td>1</td>\n",
       "    </tr>\n",
       "    <tr>\n",
       "      <th>54</th>\n",
       "      <td>0</td>\n",
       "      <td>2</td>\n",
       "    </tr>\n",
       "    <tr>\n",
       "      <th>55</th>\n",
       "      <td>0</td>\n",
       "      <td>3</td>\n",
       "    </tr>\n",
       "    <tr>\n",
       "      <th>63</th>\n",
       "      <td>0</td>\n",
       "      <td>4</td>\n",
       "    </tr>\n",
       "    <tr>\n",
       "      <th>...</th>\n",
       "      <td>...</td>\n",
       "      <td>...</td>\n",
       "    </tr>\n",
       "    <tr>\n",
       "      <th>14639101</th>\n",
       "      <td>6452</td>\n",
       "      <td>32088</td>\n",
       "    </tr>\n",
       "    <tr>\n",
       "      <th>14639109</th>\n",
       "      <td>6452</td>\n",
       "      <td>33373</td>\n",
       "    </tr>\n",
       "    <tr>\n",
       "      <th>14639120</th>\n",
       "      <td>6452</td>\n",
       "      <td>35990</td>\n",
       "    </tr>\n",
       "    <tr>\n",
       "      <th>14639133</th>\n",
       "      <td>6452</td>\n",
       "      <td>37021</td>\n",
       "    </tr>\n",
       "    <tr>\n",
       "      <th>14639142</th>\n",
       "      <td>6452</td>\n",
       "      <td>38202</td>\n",
       "    </tr>\n",
       "  </tbody>\n",
       "</table>\n",
       "<p>782921 rows × 2 columns</p>\n",
       "</div>"
      ],
      "text/plain": [
       "          user_id:token  item_id:token\n",
       "10                    0              0\n",
       "38                    0              1\n",
       "54                    0              2\n",
       "55                    0              3\n",
       "63                    0              4\n",
       "...                 ...            ...\n",
       "14639101           6452          32088\n",
       "14639109           6452          33373\n",
       "14639120           6452          35990\n",
       "14639133           6452          37021\n",
       "14639142           6452          38202\n",
       "\n",
       "[782921 rows x 2 columns]"
      ]
     },
     "execution_count": 12,
     "metadata": {},
     "output_type": "execute_result"
    }
   ],
   "source": [
    "filtered_interactions"
   ]
  },
  {
   "cell_type": "code",
   "execution_count": 13,
   "metadata": {},
   "outputs": [],
   "source": [
    "fi_value_counts = filtered_interactions[\"item_id:token\"].value_counts()\n",
    "\n",
    "\n",
    "filtered_interactions_filtered = filtered_interactions[filtered_interactions[\"item_id:token\"].isin(fi_value_counts[fi_value_counts >= 4].index)]\n",
    "filtered_item_indices = set(filtered_interactions_filtered[\"item_id:token\"].value_counts().index)"
   ]
  },
  {
   "cell_type": "code",
   "execution_count": 14,
   "metadata": {},
   "outputs": [],
   "source": [
    "index_translation2 = {old_index:new_index for new_index, old_index in enumerate(sorted(filtered_item_indices))}"
   ]
  },
  {
   "cell_type": "code",
   "execution_count": 15,
   "metadata": {},
   "outputs": [
    {
     "name": "stderr",
     "output_type": "stream",
     "text": [
      "C:\\Users\\Martin\\AppData\\Local\\Temp\\ipykernel_17396\\1768535217.py:1: SettingWithCopyWarning: \n",
      "A value is trying to be set on a copy of a slice from a DataFrame.\n",
      "Try using .loc[row_indexer,col_indexer] = value instead\n",
      "\n",
      "See the caveats in the documentation: https://pandas.pydata.org/pandas-docs/stable/user_guide/indexing.html#returning-a-view-versus-a-copy\n",
      "  filtered_interactions_filtered['item_id:token'] = filtered_interactions_filtered['item_id:token'].map(index_translation2)\n"
     ]
    }
   ],
   "source": [
    "filtered_interactions_filtered['item_id:token'] = filtered_interactions_filtered['item_id:token'].map(index_translation2)"
   ]
  },
  {
   "cell_type": "code",
   "execution_count": 16,
   "metadata": {},
   "outputs": [],
   "source": [
    "new_item_list = new_item_list.reset_index(drop=True)"
   ]
  },
  {
   "cell_type": "code",
   "execution_count": 17,
   "metadata": {},
   "outputs": [],
   "source": [
    "new_item_list = new_item_list[new_item_list.index.isin(filtered_item_indices)].reset_index(drop=True)"
   ]
  },
  {
   "cell_type": "code",
   "execution_count": 18,
   "metadata": {},
   "outputs": [],
   "source": [
    "filtered_users = users_df.loc[users_to_keep]"
   ]
  },
  {
   "cell_type": "code",
   "execution_count": 19,
   "metadata": {},
   "outputs": [],
   "source": [
    "filtered_interactions_filtered.to_csv(\"data/100k_dataset/100k_dataset.inter\", sep=\"\\t\", index=False)\n",
    "new_item_list.to_csv('data/100k_dataset/tracks.txt.gz', sep=\"\\t\", index=False, compression=\"gzip\", header=None)\n",
    "filtered_users.to_csv('data/100k_dataset/demo.txt.gz', sep=\"\\t\", index=False, compression=\"gzip\", header=None)"
   ]
  },
  {
   "cell_type": "code",
   "execution_count": 20,
   "metadata": {},
   "outputs": [
    {
     "data": {
      "text/plain": [
       "RangeIndex(start=0, stop=42487, step=1)"
      ]
     },
     "execution_count": 20,
     "metadata": {},
     "output_type": "execute_result"
    }
   ],
   "source": [
    "new_item_list.index"
   ]
  },
  {
   "cell_type": "code",
   "execution_count": 21,
   "metadata": {},
   "outputs": [
    {
     "data": {
      "text/plain": [
       "item_id:token\n",
       "False    769023\n",
       "True         10\n",
       "Name: count, dtype: int64"
      ]
     },
     "execution_count": 21,
     "metadata": {},
     "output_type": "execute_result"
    }
   ],
   "source": [
    "(filtered_interactions_filtered[\"item_id:token\"] == 34522).value_counts()"
   ]
  },
  {
   "cell_type": "code",
   "execution_count": 22,
   "metadata": {},
   "outputs": [
    {
     "data": {
      "text/plain": [
       "42487"
      ]
     },
     "execution_count": 22,
     "metadata": {},
     "output_type": "execute_result"
    }
   ],
   "source": [
    "len(set(filtered_interactions_filtered[\"item_id:token\"]))"
   ]
  }
 ],
 "metadata": {
  "kernelspec": {
   "display_name": "Python 3",
   "language": "python",
   "name": "python3"
  },
  "language_info": {
   "codemirror_mode": {
    "name": "ipython",
    "version": 3
   },
   "file_extension": ".py",
   "mimetype": "text/x-python",
   "name": "python",
   "nbconvert_exporter": "python",
   "pygments_lexer": "ipython3",
   "version": "3.9.6"
  },
  "orig_nbformat": 4,
  "vscode": {
   "interpreter": {
    "hash": "16df692f1f6e2a1e1ce4185923fc5153d51899e32dce251143dce7d99e9dac23"
   }
  }
 },
 "nbformat": 4,
 "nbformat_minor": 2
}
